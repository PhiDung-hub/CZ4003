{
  "nbformat": 4,
  "nbformat_minor": 0,
  "metadata": {
    "kernelspec": {
      "display_name": "Python 3",
      "language": "python",
      "name": "python3"
    },
    "language_info": {
      "codemirror_mode": {
        "name": "ipython",
        "version": 3
      },
      "file_extension": ".py",
      "mimetype": "text/x-python",
      "name": "python",
      "nbconvert_exporter": "python",
      "pygments_lexer": "ipython3",
      "version": "3.6.3"
    },
    "colab": {
      "name": "Spatial_Pyramid_Matching-CZ4003-Optional_task.ipynb",
      "provenance": [],
      "collapsed_sections": [
        "fgh6f9bteb-0",
        "1_So8Haer4aC"
      ],
      "include_colab_link": true
    }
  },
  "cells": [
    {
      "cell_type": "markdown",
      "metadata": {
        "id": "view-in-github",
        "colab_type": "text"
      },
      "source": [
        "<a href=\"https://colab.research.google.com/github/PhiDung-hub/CZ4003/blob/main/Spatial_Pyramid_Matching_CZ4003_Optional_task.ipynb\" target=\"_parent\"><img src=\"https://colab.research.google.com/assets/colab-badge.svg\" alt=\"Open In Colab\"/></a>"
      ]
    },
    {
      "cell_type": "markdown",
      "metadata": {
        "id": "eBEDlHpoRsQj"
      },
      "source": [
        "# Spatial Pyramid Matching\n",
        "---\n",
        "This note book attempt to replicates SPM method from [Lazebnik et al. 2006](http://www.di.ens.fr/willow/pdfs/cvpr06b.pdf). For an excellent survey of pre-deep-learning feature encoding methods for bag of words models, see [Chatfield et al, 2011](http://www.robots.ox.ac.uk/~vgg/research/encoding_eval/).\n",
        "\n",
        "## Implementation specs\n",
        "--- \n",
        "Procedure are replicated as in the original paper. Hyper-parameter are:      \n",
        "- $L=0,\\ 2 \\ ||\\ M=200$\n",
        "- SIFT descriptor and K-means clustering for feature extractions, use a subset of 100 features (SIFT desc) from each image.\n",
        "- SVM for image classification task\n",
        "\n",
        "## Dataset\n",
        "---\n",
        "[Caltech101](http://www.vision.caltech.edu/Image_Datasets/Caltech101/): Pictures of objects belonging to 101 categories. About 40 to 800 images per category. Most categories have about 50 images. Collected in September 2003 by Fei-Fei Li, Marco Andreetto, and Marc 'Aurelio Ranzato.  The size of each image is roughly 300 x 200 pixels.\n"
      ]
    },
    {
      "cell_type": "markdown",
      "metadata": {
        "id": "n19qHbHz-Po5"
      },
      "source": [
        "### *GUIDE FOR RUNNING THE NOTEBOOK: <br/>*\n",
        "Download Caltech101 dataset then run on local preferred environment (anaconda, etc.) or connecting collab to your local backend (Instruction provided on the right \"Connected\" tab)"
      ]
    },
    {
      "cell_type": "markdown",
      "metadata": {
        "id": "BEQ8whqtnpKX"
      },
      "source": [
        "# Data Loading \n",
        "Load Caltech101 data and split them into train/test set according to the original paper specification: \n",
        "\n",
        "- train on 30 image per class and test on the rest \n",
        "- limit number of test image to 50\n",
        "- All data are loaded grayscale\n",
        "\n",
        "**Remember to remove \"GOOGLE_background\" folder as this will add noise to the dataset.**"
      ]
    },
    {
      "cell_type": "code",
      "metadata": {
        "collapsed": true,
        "id": "14n0rmBlRsQn"
      },
      "source": [
        "import sys\n",
        "import glob\n",
        "import joblib \n",
        "# !{sys.executable} -m pip install opencv-python\n",
        "import cv2\n",
        "import numpy as np\n",
        "import matplotlib.pyplot as plt"
      ],
      "execution_count": 75,
      "outputs": []
    },
    {
      "cell_type": "markdown",
      "metadata": {
        "id": "EKyNX92s3Dgv"
      },
      "source": [
        "WARNING: Since the data set is large (6K images), better to connect to local runtime"
      ]
    },
    {
      "cell_type": "code",
      "metadata": {
        "id": "P5OvqnFtd2Cf"
      },
      "source": [
        "# Comment out this cell to connect to your Drive folder\n",
        "# from google.colab import drive\n",
        "\n",
        "# drive.mount('/content/gdrive')"
      ],
      "execution_count": null,
      "outputs": []
    },
    {
      "cell_type": "code",
      "metadata": {
        "id": "e7mOqv4mRsQp",
        "colab": {
          "base_uri": "https://localhost:8080/"
        },
        "outputId": "1d824a2e-300b-450c-9600-2fda38873caa"
      },
      "source": [
        "DATA_DIR = \"Dropbox/data/101_ObjectCategories/\"\n",
        "_ = len(DATA_DIR) # dummy string in class name.\n",
        "class_names = [name[_:] for name in glob.glob(f'{DATA_DIR}*')]\n",
        "class_names = dict(zip(range(0,len(class_names)), class_names))\n",
        "print(f'0: {class_names[0]}; 5: {class_names[5]}; 10: {class_names[10]}')\n",
        "print(f'Number of class: {len(class_names)}')"
      ],
      "execution_count": 76,
      "outputs": [
        {
          "output_type": "stream",
          "name": "stdout",
          "text": [
            "0: accordion; 5: bass; 10: brontosaurus\n",
            "Number of class: 101\n"
          ]
        }
      ]
    },
    {
      "cell_type": "code",
      "metadata": {
        "id": "VVYJ25IhhMeN",
        "colab": {
          "base_uri": "https://localhost:8080/"
        },
        "outputId": "2dfc21aa-dd62-4eee-f6e9-d5abea340847"
      },
      "source": [
        "import sklearn\n",
        "def load_dataset(path, train_size=30, max_test_size=50):\n",
        "    train_data = []\n",
        "    train_labels = []\n",
        "    test_data = []\n",
        "    test_labels = []\n",
        "    for id, class_name in class_names.items():\n",
        "        img_path_class = glob.glob(path + class_name + '/*.jpg')\n",
        "        # get train_data\n",
        "        train_path_class = img_path_class[:train_size]\n",
        "        train_labels.extend([id]*len(train_path_class))\n",
        "        for filename in train_path_class:\n",
        "            train_data.append(cv2.imread(filename, cv2.IMREAD_GRAYSCALE))\n",
        "        \n",
        "        if train_size + max_test_size > len(img_path_class): \n",
        "            test_path_class = img_path_class[train_size:]\n",
        "        else:\n",
        "            test_path_class = img_path_class[train_size:train_size+max_test_size]\n",
        "        test_labels.extend([id]*len(test_path_class))\n",
        "        for filename in test_path_class:\n",
        "            test_data.append(cv2.imread(filename, cv2.IMREAD_GRAYSCALE))\n",
        "\n",
        "    return train_data, np.array(train_labels), test_data, np.array(test_labels)\n",
        "\n",
        "# load the dataset\n",
        "train_data, train_labels, test_data, test_labels = load_dataset(DATA_DIR)\n",
        "# shuffle data to make classes orderless.\n",
        "train_data, train_labels = sklearn.utils.shuffle(train_data, train_labels, random_state=0)\n",
        "test_data, test_labels = sklearn.utils.shuffle(test_data, test_labels, random_state=0)\n",
        "train_num = len(train_labels); test_num = len(test_labels)\n",
        "print(f'Number of image \\t train: {train_num} \\t test: {test_num}')"
      ],
      "execution_count": 78,
      "outputs": [
        {
          "output_type": "stream",
          "name": "stdout",
          "text": [
            "Number of image \t train: 3030 \t test: 2945\n"
          ]
        }
      ]
    },
    {
      "cell_type": "code",
      "metadata": {
        "id": "UoSTJc7rNtZt",
        "colab": {
          "base_uri": "https://localhost:8080/",
          "height": 281
        },
        "outputId": "ba08b95e-6f8e-4b2e-d13d-a1ee2da460cf"
      },
      "source": [
        "plt.imshow(train_data[0]);\n",
        "plt.title(f\"Example image of {class_names[train_labels[0]]}\"); "
      ],
      "execution_count": 79,
      "outputs": [
        {
          "output_type": "display_data",
          "data": {
            "text/plain": [
              "<Figure size 432x288 with 1 Axes>"
            ],
            "image/png": "[encoded data removed]"
          },
          "metadata": {
            "needs_background": "light"
          }
        }
      ]
    },
    {
      "cell_type": "markdown",
      "metadata": {
        "id": "GcgWbHoGS_Yh"
      },
      "source": [
        "# Preprocessing data to obtains \"visual vocabulary\" representation\n",
        "Visual vocabs are clustered Scal Invariant Feature Transform (SIFT) descriptors of the entire dataset. In the original paper, 2 type of features are introduced for experimenting. \n",
        "- ***Weak feature***: \n",
        "Obtained by examining oriented edge points, whose gradient magnitude in a given direction exceed a minimum threshold. \n",
        "Author used 2 scales and 8 orientations $\\rightarrow$ $M=16$ features and these can be seen as a global SIFT descriptor of the image. \n",
        "- ***Strong feature***: \n",
        "Obtained by computing $SIFT\\ descriptors$ of $16 \\times 16$ patches over a grid with $8$ pixels spacing. Afterwards, $K-means\\ clustering$ are performed on a subset *(here we use 100 for each image)* of random patches to form the set of visual vocabulary. Typical size are $M=200,\\ M=400$.\n",
        "<br/>\n",
        "\n",
        "**In this implementation, only strong features with $M=200$ are being tested**\n"
      ]
    },
    {
      "cell_type": "markdown",
      "metadata": {
        "id": "fgh6f9bteb-0"
      },
      "source": [
        "### 1. Feature extraction"
      ]
    },
    {
      "cell_type": "code",
      "metadata": {
        "colab": {
          "base_uri": "https://localhost:8080/"
        },
        "id": "c2stGC1TeU6M",
        "outputId": "5d6c0f8c-e6bc-4028-85f4-dd734e00c4f5"
      },
      "source": [
        "def extract_denseSIFT(img, SIFT_SIZE = 16, STEP_SIZE = 8):\n",
        "    \"\"\"\n",
        "    This function compute dense SIFT descriptors of an image. \n",
        "    PATCH_SIZE = 16 and STEP_SIZE = 8 are selected as in original paper. \n",
        "    \"\"\"\n",
        "    SIFTer = cv2.SIFT_create(nfeatures=0, nOctaveLayers=3, contrastThreshold=0.09) # original values in D.Lower paper\n",
        "    H, W = img.shape    # height and width of the image\n",
        "    \n",
        "    # Make sure this is center padding, skip the corner-most patches.\n",
        "    (y_start, y_end) = (H % STEP_SIZE)//2, H - (H % STEP_SIZE)//2 \n",
        "    (x_start, x_end) = (W % STEP_SIZE)//2, W - (W % STEP_SIZE)//2\n",
        "\n",
        "    keypoints = [cv2.KeyPoint(x, y, SIFT_SIZE) for y in range(y_start, y_end+1, STEP_SIZE) for x in range(x_start, x_end+1, STEP_SIZE)]\n",
        "    descriptors = SIFTer.compute(img, keypoints)[1]\n",
        "    \n",
        "    return np.array(descriptors)\n",
        "\n",
        "desc = extract_denseSIFT(train_data[0])\n",
        "print(f\"No of SIFT descriptor: {desc.shape[0]}\\t SIFT vector size: {desc.shape[1]}\")"
      ],
      "execution_count": 80,
      "outputs": [
        {
          "output_type": "stream",
          "name": "stdout",
          "text": [
            "No of SIFT descriptor: 1406\t SIFT vector size: 128\n"
          ]
        }
      ]
    },
    {
      "cell_type": "code",
      "metadata": {
        "id": "79AYEmT1W4Lr"
      },
      "source": [
        "def extract_sparseSIFT(img):\n",
        "    \"\"\"\n",
        "    This function compute sparse global SIFT descriptors of an image. \n",
        "     \n",
        "    \"\"\"\n",
        "    SIFTer = cv2.SIFT_create(nfeatures=0, nOctaveLayers=3, contrastThreshold=0.09) # original values in D.Lower paper\n",
        "    H, W = img.shape    # height and width of the image\n",
        "    (y_start, y_end) = (H % STEP_SIZE)//2, H - (H % STEP_SIZE)//2 \n",
        "    (x_start, x_end) = (W % STEP_SIZE)//2, W - (W % STEP_SIZE)//2\n",
        "\n",
        "    keypoints = [cv2.KeyPoint(x, y, SIFT_SIZE) for y in range(y_start, y_end+1, STEP_SIZE) for x in range(x_start, x_end+1, STEP_SIZE)]\n",
        "    descriptors = SIFTer.compute(img, keypoints)[1]\n",
        "    \n",
        "    return np.array(descriptors)\n",
        "\n",
        "desc = extract_sparseSIFT(train_data[0])\n",
        "print(f\"No of SIFT descriptor: {desc.shape[0]}\\t SIFT vector size: {desc.shape[1]}\")"
      ],
      "execution_count": null,
      "outputs": []
    },
    {
      "cell_type": "code",
      "metadata": {
        "colab": {
          "base_uri": "https://localhost:8080/"
        },
        "id": "Nm8qDkfbPVgK",
        "outputId": "e3249cb2-2272-4a7d-ce68-1fe1ad4318f7"
      },
      "source": [
        "# THIS RUN QUITE LONG SO COMMENT OUT THE CELL TO RUN ONLY WHEN THE DATASET CHANGE.\n",
        "import random\n",
        "def get_all_SIFT_desc(dataset):\n",
        "    \"\"\"\n",
        "    This function get all SIFT descriptors from an entire image data set. Since the size of dataset is large (3060 train images), \n",
        "    only 100 random SIFT descriptors from each image is selected this is the same methods as in original paper (though they didn't specify number).\n",
        "    SIFT descriptors are then being used to calculated the Visual vocabulary. \n",
        "    \"\"\"\n",
        "    all_SIFT_desc = []\n",
        "    for i in range(len(dataset)):\n",
        "        SIFT_desc = extract_denseSIFT(dataset[i])\n",
        "        rand_idx = np.random.choice(SIFT_desc.shape[0], 100, replace=False) \n",
        "        for feature in SIFT_desc[rand_idx]: # select 100 random vector from \n",
        "            all_SIFT_desc.extend(feature)\n",
        "\n",
        "    all_SIFT_desc = np.array(all_SIFT_desc)         # avoid nested call in numpy\n",
        "    all_SIFT_desc = all_SIFT_desc.reshape(-1, 128)  # SIFT vector is 128 dimensional\n",
        "    return all_SIFT_desc\n",
        "\n",
        "# COMMENT THIS OUT TO RUN ONLY ONCE TO AVOID OUT OF MEMORY \n",
        "# all_train_desc = get_all_SIFT_desc(train_data)\n",
        "# joblib.dump(all_train_desc, \"Dropbox/all_train_desc.sav\")\n",
        "\n",
        "all_train_desc = joblib.load(\"Dropbox/all_train_desc.sav\")\n",
        "all_train_desc.shape"
      ],
      "execution_count": 81,
      "outputs": [
        {
          "output_type": "execute_result",
          "data": {
            "text/plain": [
              "(303000, 128)"
            ]
          },
          "metadata": {},
          "execution_count": 81
        }
      ]
    },
    {
      "cell_type": "markdown",
      "metadata": {
        "id": "1_So8Haer4aC"
      },
      "source": [
        "## 2. Build the visual vocabulary"
      ]
    },
    {
      "cell_type": "code",
      "metadata": {
        "id": "DmRS34PPcIM1"
      },
      "source": [
        "from sklearn.cluster import KMeans\n",
        "# build BoW presentation from SIFT of training images, training will take long time\n",
        "def get_vocab(all_train_desc, vocab_size=200):\n",
        "    \"\"\"\n",
        "    Build vocabulary from set of selected SIFT descriptors\n",
        "    @output: A K-means classifier can later be used to predict BoW representation of an image\n",
        "    \"\"\"\n",
        "    kmeans = KMeans(n_clusters=vocab_size, random_state=0).fit(all_train_desc)\n",
        "    return kmeans\n",
        "\n",
        "# COMMENT THIS OUT TO RUN ONLY ONCE WHENEVER SIFT DESCRIPTORS CHANGE\n",
        "# visual_vocab = get_vocab(all_train_desc)\n",
        "# joblib.dump(visual_vocab, \"Dropbox/visual_vocab.sav\")\n",
        "\n",
        "visual_vocab = joblib.load(\"Dropbox/visual_vocab.sav\")"
      ],
      "execution_count": 83,
      "outputs": []
    },
    {
      "cell_type": "markdown",
      "metadata": {
        "id": "M46Tf4MDsSPY"
      },
      "source": [
        "## 3. Get data in visual_vocab representation"
      ]
    },
    {
      "cell_type": "code",
      "metadata": {
        "colab": {
          "base_uri": "https://localhost:8080/"
        },
        "id": "fmLkJggbI5k1",
        "outputId": "26d6e819-58d3-4351-aefb-39aef4df9f69"
      },
      "source": [
        "def get_img_kernel(img, visual_vocab, pyramid_level=2, single_level=False):\n",
        "    \"\"\"\n",
        "    Function to calculate the BoW representation of an image at all levels.\n",
        "\n",
        "    @params: \n",
        "    + img, visual_vocab, pyramid_level = input image, visual vocabulary obtained, depth of pyramid.\n",
        "    + single_level: if True calculate kernel only at 'pyramid_level' depth. Since histogram is normalize,\n",
        "    don't need to reset the weight when this mode is turn on.\n",
        "\n",
        "    @output: A sparse kernel of large dimension, each indicate level of match with a vocabulary (features)\n",
        "    \"\"\"\n",
        "    H, W = img.shape   \n",
        "    hist = []\n",
        "    # Iterate through all level to get \n",
        "    for L in range(pyramid_level+1):\n",
        "        if single_level and L != pyramid_level: # if sing_level\n",
        "            continue\n",
        "        \n",
        "        w_step, h_step = W // (2**L), H // (2**L)\n",
        "        x, y = 0, 0\n",
        "        # Scan along each level\n",
        "        for _ in range(2**L):\n",
        "            x = 0\n",
        "            for _ in range(2**L):                \n",
        "                desc = extract_denseSIFT(img[y:y+h_step, x:x+w_step])                     # get SIFT features for this image                             \n",
        "                intersection = visual_vocab.predict(desc)                                 # get BoW distribution of this sub-region    \n",
        "                L_hist = np.bincount(intersection, minlength=visual_vocab.n_clusters)     # calculate the histogram\n",
        "                if L==0:                                                \n",
        "                    L_hist = L_hist * (2 ** (-pyramid_level))       # make sure weight is given correctly\n",
        "                else: \n",
        "                    L_hist = L_hist * (2 ** (L+1-pyramid_level))    # make sure weight is given correctly\n",
        "                hist.extend(L_hist)     # append to the \"long\" vector, later be used for classification\n",
        "                \n",
        "                x += w_step     # move to the next sub-region\n",
        "            y += h_step         # move to the next sub-region\n",
        "        \n",
        "    hist = np.array(hist)\n",
        "    # In the paper, histogram are normalized by total sum of weights\n",
        "    hist = hist / np.sum(hist)\n",
        "    \n",
        "    return hist\n",
        "\n",
        "x = get_img_kernel(train_data[0], visual_vocab)\n",
        "print(f\"All level (L=2): \\nOutput dimension: {x.shape[0]}\\t expected: {200*(4**3-1)//3}\")\n",
        "print(f\"Non-zero entries: {x[x!=0].size}\\t zero entries: {x[x==0].size}\")\n",
        "\n",
        "x = get_img_kernel(train_data[0], visual_vocab, single_level=True)\n",
        "print(f\"Single level (L=2): \\nOutput dimension: {x.shape[0]}\\t expected: {200*4**2}\")\n",
        "print(f\"Non-zero entries: {x[x!=0].size}\\t zero entries: {x[x==0].size}\")"
      ],
      "execution_count": 131,
      "outputs": [
        {
          "output_type": "stream",
          "name": "stdout",
          "text": [
            "All level (L=2): \n",
            "Output dimension: 4200\t expected: 4200\n",
            "Non-zero entries: 520\t zero entries: 3680\n",
            "Single level (L=2): \n",
            "Output dimension: 3200\t expected: 3200\n",
            "Non-zero entries: 288\t zero entries: 2912\n"
          ]
        }
      ]
    },
    {
      "cell_type": "code",
      "metadata": {
        "id": "SttQTosubnCb"
      },
      "source": [
        "from scipy.sparse import csr_matrix     # Utilize matrix sparseness\n",
        "\n",
        "def get_data_representation(data, visual_vocab, pyramid_level=2, single_level=False):\n",
        "    \"\"\"\n",
        "    This function build pyramid kernel representation for all dataset\n",
        "    \"\"\"    \n",
        "    data_hist = [get_img_kernel(sample, visual_vocab, pyramid_level, single_level) for sample in data]\n",
        "    return np.array(data_hist)\n",
        "\n",
        "def proces_data(pyramid_level=2, save_path='Dropbox/'):\n",
        "    \"\"\"\n",
        "    This function calculate data pyramid kernel representation both pyramid \n",
        "    and single level (if applicable). Then save them in form of sparse matrix. \n",
        "    @output: array of file paths of train_data and test_data both pyramid and single level\n",
        "    \"\"\"\n",
        "    assert(pyramid_level>=0)\n",
        "    \n",
        "    train_hist = get_data_representation(train_data, visual_vocab, pyramid_level)\n",
        "    train_sparse = csr_matrix(train_hist)\n",
        "    joblib.dump(train_sparse, f\"{save_path}train_{pyramid_level}.sav\")\n",
        "    del train_hist, train_sparse\n",
        "\n",
        "    test_hist = get_data_representation(test_data, visual_vocab, pyramid_level)\n",
        "    test_sparse = csr_matrix(test_hist)\n",
        "    joblib.dump(test_sparse, f\"{save_path}test_{pyramid_level}.sav\")\n",
        "    del test_hist, test_sparse\n",
        "\n",
        "    if pyramid_level > 0:\n",
        "        train_hist_single = get_data_representation(train_data, visual_vocab, pyramid_level, True)\n",
        "        train_sparse_single = csr_matrix(train_hist_single)\n",
        "        joblib.dump(train_sparse_single, f\"{save_path}train_single_{pyramid_level}.sav\")\n",
        "        del train_hist_single, train_sparse_single\n",
        "\n",
        "        test_hist_single = get_data_representation(test_data, visual_vocab, pyramid_level, True)\n",
        "        test_sparse_single = csr_matrix(test_hist_single)\n",
        "        joblib.dump(test_sparse_single, f\"{save_path}test_single_{pyramid_level}.sav\")\n",
        "        del test_hist_single, test_sparse_single\n",
        "\n"
      ],
      "execution_count": null,
      "outputs": []
    },
    {
      "cell_type": "markdown",
      "metadata": {
        "id": "IzXwzAs9iXOe"
      },
      "source": [
        "Indeed output vectors are very sparse as described in the original paper."
      ]
    },
    {
      "cell_type": "markdown",
      "metadata": {
        "id": "OY6Axteaab3j"
      },
      "source": [
        "# Training and prediction result\n",
        "Follow experimental setting from table 2 in the original paper, there are 5 case being tested:\n",
        "\n",
        " 1. Pyramid with 0 level (original Bag of Words algorithm)\n",
        " 2. 1-level depth pyramid: *single level (dim=800)* vs. *all level kernel (dim=100)*\n",
        " 3. 2-level depth pyramid: *single level (dim=3200)* vs. *all level kernel (dim=4200)* \n",
        "<br/>\n",
        " ***All hyper-parameters for Linear SVM Classifier have been selected through trial and error. Though through much effort, it is not guaranteed the best has been found.***"
      ]
    },
    {
      "cell_type": "code",
      "metadata": {
        "id": "h0X5uxQPdGWz"
      },
      "source": [
        "from sklearn.svm import LinearSVC       # Classifier object being used\n",
        "\n",
        "def train_and_predict(SVC, train_hist, test_hist):\n",
        "    \"\"\"\n",
        "    This function train and predict data after converted into pyramid kernel representation.\n",
        "    @output: SVM Classifier after trained and its prediction on test set\n",
        "    \"\"\"\n",
        "    SVC.fit(train_hist, train_labels)\n",
        "    predictions = SVC.predict(test_hist)\n",
        "    print(f\"Accuracy:  {np.mean(predictions == test_labels)*100}%\")\n",
        "\n",
        "    return SVC, predictions\n",
        "\n",
        "def get_intra_class_accuracy(predictions, labels):\n",
        "    \"\"\"\n",
        "    This function calculate predictions accuracy for all classes. Since class are labels [0...100]\n",
        "    and class names can be access via global variable \"class_names\". Accuracy is store in form of \n",
        "    an array size 101. arr[i] is predictions accuracy for class (i+1)th.\n",
        "    \"\"\"\n",
        "    class_accuracy = [0 * len(labels)]\n",
        "    class_count = [0*len(labels)]\n",
        "    # count number of class representative and number of correct prediction.\n",
        "    for i in range(len(labels)):\n",
        "        class_accuracy[labels[i]] += (predicttions[i] == labels[i])\n",
        "        class_count[labels[i]] += 1\n",
        "    # get accuracy for each class\n",
        "    for i in range(len(lables)):\n",
        "        class_accuracy[i] /= class_count[i]\n",
        "\n",
        "    return class_accuracy"
      ],
      "execution_count": 122,
      "outputs": []
    },
    {
      "cell_type": "markdown",
      "metadata": {
        "id": "GmWql4IGbw55"
      },
      "source": [
        "### 0-level pyramid (traditional BoW classification)\n"
      ]
    },
    {
      "cell_type": "code",
      "metadata": {
        "id": "VYYdRO6t-o5v"
      },
      "source": [
        "train_hist_0 = joblib.load(\"Dropbox/train_hist_0.sav\")\n",
        "test_hist_0 = joblib.load(\"Dropbox/test_hist_0.sav\")"
      ],
      "execution_count": 98,
      "outputs": []
    },
    {
      "cell_type": "code",
      "metadata": {
        "id": "fakaN_WwRsQx",
        "cellView": "code",
        "colab": {
          "base_uri": "https://localhost:8080/"
        },
        "outputId": "6fec9a2a-537c-4a40-e6be-a0657aa2c274"
      },
      "source": [
        "SVC = LinearSVC(dual=False, C=25, tol=1e-4, \n",
        "                max_iter=5000, random_state=0)\n",
        "\n",
        "print(f\"L = 0\\t Vector dimension = {train_hist_0.shape[1]}\")\n",
        "clf_0, pred_0 = train_and_predict(SVC, train_hist_0, test_hist_0)"
      ],
      "execution_count": 154,
      "outputs": [
        {
          "output_type": "stream",
          "name": "stdout",
          "text": [
            "L = 0\t Vector dimension = 200\n",
            "Accuracy:  43.12393887945671%\n"
          ]
        }
      ]
    },
    {
      "cell_type": "markdown",
      "metadata": {
        "id": "1N-5gA_mb6fo"
      },
      "source": [
        "### 1-level Pyramid"
      ]
    },
    {
      "cell_type": "markdown",
      "metadata": {
        "id": "BJ2YfP5PsFT9"
      },
      "source": [
        "All Level"
      ]
    },
    {
      "cell_type": "code",
      "metadata": {
        "colab": {
          "base_uri": "https://localhost:8080/"
        },
        "id": "Y6bOo2hRglxJ",
        "outputId": "fe1677a0-b11f-4018-8a34-dffe6e7b1da9"
      },
      "source": [
        "train_hist_1 = joblib.load(\"Dropbox/train_hist_1.sav\")\n",
        "test_hist_1 = joblib.load(\"Dropbox/test_hist_1.sav\")\n",
        "\n",
        "SVC = LinearSVC(dual=False, C=70, tol=1e-6, \n",
        "                max_iter=5000, random_state=0)\n",
        "\n",
        "print(f\"L = 1\\t Vector dimension = {train_hist_1.shape[1]}\")\n",
        "clf_1, pred_1 = train_and_predict(SVC, train_hist_1, test_hist_1)"
      ],
      "execution_count": 158,
      "outputs": [
        {
          "output_type": "stream",
          "name": "stdout",
          "text": [
            "L = 1\t Vector dimension = 1000\n",
            "Accuracy:  51.13752122241087%\n"
          ]
        }
      ]
    },
    {
      "cell_type": "markdown",
      "metadata": {
        "id": "V9EactCjsMLQ"
      },
      "source": [
        "Single level"
      ]
    },
    {
      "cell_type": "code",
      "metadata": {
        "colab": {
          "base_uri": "https://localhost:8080/"
        },
        "id": "kZRiCbLbgz_S",
        "outputId": "5058863d-55de-4ce7-a0a0-534e2a3916ed"
      },
      "source": [
        "train_hist_1_single = joblib.load(\"Dropbox/train_hist_1_single.sav\")\n",
        "test_hist_1_single = joblib.load(\"Dropbox/test_hist_1_single.sav\")\n",
        "\n",
        "SVC = LinearSVC(dual=False, C=70, tol=1e-6, \n",
        "                max_iter=2000, random_state=0)\n",
        "print(f\"L = 1\\t Vector dimension = {train_hist_1_single.shape[1]}\")\n",
        "clf_1_single, pred_1_single = train_and_predict(SVC, train_hist_1_single, test_hist_1_single)"
      ],
      "execution_count": 162,
      "outputs": [
        {
          "output_type": "stream",
          "name": "stdout",
          "text": [
            "L = 1\t Vector dimension = 800\n",
            "Accuracy:  49.9490662139219%\n"
          ]
        }
      ]
    },
    {
      "cell_type": "markdown",
      "metadata": {
        "id": "fNkoqHCtdD5T"
      },
      "source": [
        "### 2-level pyramid"
      ]
    },
    {
      "cell_type": "markdown",
      "metadata": {
        "id": "BWA5RlEx79BR"
      },
      "source": [
        "All-level"
      ]
    },
    {
      "cell_type": "code",
      "metadata": {
        "colab": {
          "base_uri": "https://localhost:8080/"
        },
        "id": "Y_lAuytG76ns",
        "outputId": "95d8d353-bf6f-48ad-c686-f8f77090f3c9"
      },
      "source": [
        "train_hist_2 = joblib.load(\"Dropbox/train_hist_2.sav\")\n",
        "test_hist_2 = joblib.load(\"Dropbox/test_hist_2.sav\")\n",
        "\n",
        "SVC = LinearSVC(dual=True, loss='hinge', C=700, tol=1e-6, \n",
        "                max_iter=10000, random_state=0)\n",
        "print(f\"L = 2\\t Vector dimension = {train_hist_2.shape[1]}\")\n",
        "clf_2, pred_2 = train_and_predict(SVC, train_hist_2, test_hist_2)"
      ],
      "execution_count": 172,
      "outputs": [
        {
          "output_type": "stream",
          "name": "stdout",
          "text": [
            "L = 2\t Vector dimension = 4200\n",
            "Accuracy:  55.75551782682513%\n"
          ]
        },
        {
          "output_type": "stream",
          "name": "stderr",
          "text": [
            "C:\\Users\\Phi\\anaconda3\\lib\\site-packages\\sklearn\\svm\\_base.py:985: ConvergenceWarning: Liblinear failed to converge, increase the number of iterations.\n",
            "  warnings.warn(\"Liblinear failed to converge, increase \"\n"
          ]
        }
      ]
    },
    {
      "cell_type": "markdown",
      "metadata": {
        "id": "fOmWTBMpAIaZ"
      },
      "source": [
        "Single level"
      ]
    },
    {
      "cell_type": "code",
      "metadata": {
        "colab": {
          "base_uri": "https://localhost:8080/"
        },
        "id": "wBZTjJhuJ93v",
        "outputId": "4040a216-b79f-4ae3-8414-aadfb47e0978"
      },
      "source": [
        "train_hist_2_single = joblib.load(\"Dropbox/train_hist_2_single.sav\")\n",
        "test_hist_2_single = joblib.load(\"Dropbox/test_hist_2_single.sav\")\n",
        "\n",
        "SVC = LinearSVC(dual=False, C=70, tol=1e-6, \n",
        "                max_iter=10000, random_state=0)\n",
        "print(f\"L = 2\\t Vector dimension = {train_hist_2_single.shape[1]}\")\n",
        "clf_2_single, pred_2_single = train_and_predict(SVC, train_hist_2_single, test_hist_2_single)"
      ],
      "execution_count": 175,
      "outputs": [
        {
          "output_type": "stream",
          "name": "stdout",
          "text": [
            "L = 2\t Vector dimension = 3200\n",
            "Accuracy:  52.359932088285234%\n"
          ]
        }
      ]
    },
    {
      "cell_type": "code",
      "metadata": {
        "id": "ClvswFKVVUVs"
      },
      "source": [
        "from sklearn.preprocessing import MaxAbsScaler\n",
        "\n",
        "scaler = MaxAbsScaler(copy=False)\n",
        "\n",
        "train_sparse = csr_matrix(train_hist_2)\n",
        "test_sparse = csr_matrix(test_hist_2)\n",
        "train_scaled = scaler.fit_transform(train_sparse)\n",
        "test_scaled = scaler.fit_transform(test_sparse)\n",
        "\n",
        "clf_, pred_ = train_and_predict(SVC, train_scaled, test_scaled)"
      ],
      "execution_count": null,
      "outputs": []
    },
    {
      "cell_type": "markdown",
      "metadata": {
        "id": "6sS5J5ygnBQB"
      },
      "source": [
        "### NOTE ON IMPROVEMENT:\n",
        "\n",
        "+ Due to time constraint, efficient data stream ([tf.data.Dataset](https://www.tensorflow.org/api_docs/python/tf/data/Dataset)) has not yet been implemented\n",
        "\n",
        "+ Parallelization can be implemented ([joblib](https://joblib.readthedocs.io/en/latest/generated/joblib.Parallel.html)) in Pyramid matching kernel function from level 1 onwards, and in global data transformation process (get pyramid kernel)\n",
        "\n",
        "+ Haven't think of a way to utilize sparseness of pyramid matching kernel vector"
      ]
    },
    {
      "cell_type": "code",
      "metadata": {
        "id": "aecNVRvJRsQy",
        "cellView": "form"
      },
      "source": [
        "#@title\n",
        "import itertools\n",
        "from sklearn.metrics import confusion_matrix\n",
        "\n",
        "def plot_confusion_matrix(cm, classes,\n",
        "                          normalize=False,\n",
        "                          title='Confusion matrix',\n",
        "                          cmap=plt.cm.Blues):\n",
        "    \"\"\"\n",
        "    This function prints and plots the confusion matrix.\n",
        "    Normalization can be applied by setting `normalize=True`.\n",
        "    \"\"\"\n",
        "    if normalize:\n",
        "        cm = cm.astype('float') / cm.sum(axis=1)[:, np.newaxis]\n",
        "        #print(\"Normalized confusion matrix\")\n",
        "\n",
        "    #print(cm)\n",
        "\n",
        "    plt.imshow(cm, interpolation='nearest', cmap=cmap)\n",
        "    plt.title(title)\n",
        "    plt.colorbar()\n",
        "    tick_marks = np.arange(len(classes))\n",
        "    plt.xticks(tick_marks, classes, rotation=45)\n",
        "    plt.yticks(tick_marks, classes)\n",
        "\n",
        "    fmt = '.2f' if normalize else 'd'\n",
        "    thresh = cm.max() / 2.\n",
        "    for i, j in itertools.product(range(cm.shape[0]), range(cm.shape[1])):\n",
        "        plt.text(j, i, format(cm[i, j], fmt),\n",
        "                 horizontalalignment=\"center\",\n",
        "                 color=\"white\" if cm[i, j] > thresh else \"black\")\n",
        "\n",
        "    plt.tight_layout()\n",
        "    plt.ylabel('True label')\n",
        "    plt.xlabel('Predicted label')\n",
        "\n",
        "# Compute confusion matrix\n",
        "cnf_matrix = confusion_matrix(np.array([test_label]).T, y_predict)\n",
        "np.set_printoptions(precision=2)\n",
        "\n",
        "# Plot non-normalized confusion matrix\n",
        "plt.figure(figsize=(18, 6))\n",
        "plot_confusion_matrix(cnf_matrix, classes=class_names,\n",
        "                      title='Confusion matrix, without normalization')\n",
        "\n",
        "# Plot normalized confusion matrix\n",
        "plt.figure(figsize=(18, 6))\n",
        "plot_confusion_matrix(cnf_matrix, classes=class_names, normalize=True,\n",
        "                      title='Normalized confusion matrix')\n",
        "\n",
        "plt.show()"
      ],
      "execution_count": null,
      "outputs": []
    }
  ]
}